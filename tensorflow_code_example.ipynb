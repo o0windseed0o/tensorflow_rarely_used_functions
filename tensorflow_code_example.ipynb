{
  "nbformat": 4,
  "nbformat_minor": 0,
  "metadata": {
    "colab": {
      "name": "tensorflow_code_example.ipynb",
      "provenance": [],
      "authorship_tag": "ABX9TyOCB3N61FsC8J54YpTi2MPf",
      "include_colab_link": true
    },
    "kernelspec": {
      "name": "python3",
      "display_name": "Python 3"
    }
  },
  "cells": [
    {
      "cell_type": "markdown",
      "metadata": {
        "id": "view-in-github",
        "colab_type": "text"
      },
      "source": [
        "<a href=\"https://colab.research.google.com/github/o0windseed0o/tensorflow_code_examples/blob/master/tensorflow_code_example.ipynb\" target=\"_parent\"><img src=\"https://colab.research.google.com/assets/colab-badge.svg\" alt=\"Open In Colab\"/></a>"
      ]
    },
    {
      "cell_type": "code",
      "metadata": {
        "id": "2TTl6jUtkWsb",
        "colab_type": "code",
        "colab": {
          "base_uri": "https://localhost:8080/",
          "height": 1000
        },
        "outputId": "d92948c2-5209-4b2e-b18a-c09c941199d5"
      },
      "source": [
        "import tensorflow as tf\n",
        "import numpy as np\n",
        "\n",
        "'''\n",
        "use a matrix as the input of the step function of tf.scan, and recurrently update\n",
        "values in each index with values from inputs\n",
        "\n",
        "** the usage of **\n",
        "* tf.concat -> tf.split: concat and split\n",
        "* tf.tensor_scatter_nd_update: update slices in matrix\n",
        "'''\n",
        "\n",
        "def step(matrix, inputs):\n",
        "    update, idx = tf.split(inputs, [3,1], axis=1)\n",
        "    idx = idx[0,:]\n",
        "    idx = tf.reshape(tf.cast(idx, tf.int32), [1, 1])\n",
        "    update = tf.expand_dims(update, 0)\n",
        "    matrix = tf.tensor_scatter_nd_update(matrix, idx, update)\n",
        "    return matrix\n",
        "\n",
        "a = tf.zeros([4, 3, 3])\n",
        "values = tf.ones([4, 3, 3])\n",
        "\n",
        "# [4,3,1]\n",
        "indices = tf.constant([[[0], [0], [0]],\n",
        "                 [[1], [1], [1]],\n",
        "                 [[2], [2], [2]],\n",
        "                 [[3], [3], [3]]], dtype=float)\n",
        "\n",
        "# [4,3,4]\n",
        "input_array = tf.concat([values, indices], axis=2)\n",
        "\n",
        "split0, split1 = tf.split(input_array, [3,1], axis=2)\n",
        "\n",
        "states = tf.scan(step, input_array, initializer=a)\n",
        "\n",
        "with tf.Session() as sess:\n",
        "    sess.run(states)\n",
        "    print(split0.eval())\n",
        "    print(split1.eval())\n",
        "    print(input_array.eval())\n",
        "    print(states.eval())"
      ],
      "execution_count": 1,
      "outputs": [
        {
          "output_type": "display_data",
          "data": {
            "text/html": [
              "<p style=\"color: red;\">\n",
              "The default version of TensorFlow in Colab will soon switch to TensorFlow 2.x.<br>\n",
              "We recommend you <a href=\"https://www.tensorflow.org/guide/migrate\" target=\"_blank\">upgrade</a> now \n",
              "or ensure your notebook will continue to use TensorFlow 1.x via the <code>%tensorflow_version 1.x</code> magic:\n",
              "<a href=\"https://colab.research.google.com/notebooks/tensorflow_version.ipynb\" target=\"_blank\">more info</a>.</p>\n"
            ],
            "text/plain": [
              "<IPython.core.display.HTML object>"
            ]
          },
          "metadata": {
            "tags": []
          }
        },
        {
          "output_type": "stream",
          "text": [
            "[[[1. 1. 1.]\n",
            "  [1. 1. 1.]\n",
            "  [1. 1. 1.]]\n",
            "\n",
            " [[1. 1. 1.]\n",
            "  [1. 1. 1.]\n",
            "  [1. 1. 1.]]\n",
            "\n",
            " [[1. 1. 1.]\n",
            "  [1. 1. 1.]\n",
            "  [1. 1. 1.]]\n",
            "\n",
            " [[1. 1. 1.]\n",
            "  [1. 1. 1.]\n",
            "  [1. 1. 1.]]]\n",
            "[[[0.]\n",
            "  [0.]\n",
            "  [0.]]\n",
            "\n",
            " [[1.]\n",
            "  [1.]\n",
            "  [1.]]\n",
            "\n",
            " [[2.]\n",
            "  [2.]\n",
            "  [2.]]\n",
            "\n",
            " [[3.]\n",
            "  [3.]\n",
            "  [3.]]]\n",
            "[[[1. 1. 1. 0.]\n",
            "  [1. 1. 1. 0.]\n",
            "  [1. 1. 1. 0.]]\n",
            "\n",
            " [[1. 1. 1. 1.]\n",
            "  [1. 1. 1. 1.]\n",
            "  [1. 1. 1. 1.]]\n",
            "\n",
            " [[1. 1. 1. 2.]\n",
            "  [1. 1. 1. 2.]\n",
            "  [1. 1. 1. 2.]]\n",
            "\n",
            " [[1. 1. 1. 3.]\n",
            "  [1. 1. 1. 3.]\n",
            "  [1. 1. 1. 3.]]]\n",
            "[[[[1. 1. 1.]\n",
            "   [1. 1. 1.]\n",
            "   [1. 1. 1.]]\n",
            "\n",
            "  [[0. 0. 0.]\n",
            "   [0. 0. 0.]\n",
            "   [0. 0. 0.]]\n",
            "\n",
            "  [[0. 0. 0.]\n",
            "   [0. 0. 0.]\n",
            "   [0. 0. 0.]]\n",
            "\n",
            "  [[0. 0. 0.]\n",
            "   [0. 0. 0.]\n",
            "   [0. 0. 0.]]]\n",
            "\n",
            "\n",
            " [[[1. 1. 1.]\n",
            "   [1. 1. 1.]\n",
            "   [1. 1. 1.]]\n",
            "\n",
            "  [[1. 1. 1.]\n",
            "   [1. 1. 1.]\n",
            "   [1. 1. 1.]]\n",
            "\n",
            "  [[0. 0. 0.]\n",
            "   [0. 0. 0.]\n",
            "   [0. 0. 0.]]\n",
            "\n",
            "  [[0. 0. 0.]\n",
            "   [0. 0. 0.]\n",
            "   [0. 0. 0.]]]\n",
            "\n",
            "\n",
            " [[[1. 1. 1.]\n",
            "   [1. 1. 1.]\n",
            "   [1. 1. 1.]]\n",
            "\n",
            "  [[1. 1. 1.]\n",
            "   [1. 1. 1.]\n",
            "   [1. 1. 1.]]\n",
            "\n",
            "  [[1. 1. 1.]\n",
            "   [1. 1. 1.]\n",
            "   [1. 1. 1.]]\n",
            "\n",
            "  [[0. 0. 0.]\n",
            "   [0. 0. 0.]\n",
            "   [0. 0. 0.]]]\n",
            "\n",
            "\n",
            " [[[1. 1. 1.]\n",
            "   [1. 1. 1.]\n",
            "   [1. 1. 1.]]\n",
            "\n",
            "  [[1. 1. 1.]\n",
            "   [1. 1. 1.]\n",
            "   [1. 1. 1.]]\n",
            "\n",
            "  [[1. 1. 1.]\n",
            "   [1. 1. 1.]\n",
            "   [1. 1. 1.]]\n",
            "\n",
            "  [[1. 1. 1.]\n",
            "   [1. 1. 1.]\n",
            "   [1. 1. 1.]]]]\n"
          ],
          "name": "stdout"
        }
      ]
    },
    {
      "cell_type": "code",
      "metadata": {
        "id": "z9q1wVnbljXd",
        "colab_type": "code",
        "colab": {
          "base_uri": "https://localhost:8080/",
          "height": 85
        },
        "outputId": "f90a949b-dab8-44d0-812f-0ee31c324262"
      },
      "source": [
        "\"\"\"\n",
        "dynamic mask: input a mask and update it from an index\n",
        "\"\"\"\n",
        "index = tf.convert_to_tensor(2)\n",
        "\n",
        "source_mask = tf.constant([1,1,1,0,0,0,0])\n",
        "\n",
        "update_mask = tf.sequence_mask(index, 7)\n",
        "\n",
        "update_mask = tf.cast(update_mask, tf.int32)\n",
        "\n",
        "result_mask = source_mask - update_mask\n",
        "\n",
        "with tf.Session() as sess:\n",
        "    sess.run(result_mask)\n",
        "    print(index.eval())\n",
        "    print(source_mask.eval())\n",
        "    print(update_mask.eval())\n",
        "    print(result_mask.eval())"
      ],
      "execution_count": 2,
      "outputs": [
        {
          "output_type": "stream",
          "text": [
            "2\n",
            "[1 1 1 0 0 0 0]\n",
            "[1 1 0 0 0 0 0]\n",
            "[0 0 1 0 0 0 0]\n"
          ],
          "name": "stdout"
        }
      ]
    }
  ]
}